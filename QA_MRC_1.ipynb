{
  "cells": [
    {
      "cell_type": "markdown",
      "metadata": {
        "id": "Ecu3DDwHwtzk"
      },
      "source": [
        "Download pretrain \n",
        "- Model full english: https://huggingface.co/xlm-roberta-large/tree/main <br/>\n",
        "- Model pretrain vietnam after 30 epochs: https://drive.google.com/drive/folders/16PuhMa79hHRaMAdrxZbMSpXDRZf0mmcI?usp=sharing <br/>\n",
        "Copy into drive => get path /content/drive/MyDrive/large <br/>\n",
        "Replace MODEL_PRETRAIN in file configs/config.py for training:  <br/>\n",
        "Replace MODEL_CHECKPOINT in file configs/config.py for testing:  <br/>\n",
        "Replace PATH_TRAINING_CHECKPOINT in file configs/config.py for store path checkpoint training:  <br/>"
      ]
    },
    {
      "cell_type": "code",
      "execution_count": null,
      "metadata": {
        "colab": {
          "base_uri": "https://localhost:8080/"
        },
        "id": "pWnS73B4yUxK",
        "outputId": "4f7dba3a-6c74-48eb-91bb-321714be16b5"
      },
      "outputs": [],
      "source": [
        "!git clone https://github.com/HrBbCi/nlp-qa"
      ]
    },
    {
      "cell_type": "code",
      "execution_count": null,
      "metadata": {
        "colab": {
          "base_uri": "https://localhost:8080/"
        },
        "id": "af1bDvpfy_sA",
        "outputId": "93f76424-f81b-4783-d4ba-52f81b464360"
      },
      "outputs": [
        {
          "name": "stdout",
          "output_type": "stream",
          "text": [
            "/content/qasys\n"
          ]
        }
      ],
      "source": [
        "%cd /content/nlp-qa"
      ]
    },
    {
      "cell_type": "code",
      "execution_count": null,
      "metadata": {
        "colab": {
          "base_uri": "https://localhost:8080/"
        },
        "id": "3vZQwkrvzUpY",
        "outputId": "5fe731c3-6474-4ff8-ad64-41946ffd37c2"
      },
      "outputs": [],
      "source": [
        "!pip install -r /content/nlp-qa/requirements.txt\n",
        "!pip install accelerate -U\n",
        "!pip install transformers\n",
        "!pip install datasets"
      ]
    },
    {
      "cell_type": "code",
      "execution_count": null,
      "metadata": {
        "colab": {
          "base_uri": "https://localhost:8080/"
        },
        "id": "L5e24va3zBwA",
        "outputId": "f6365910-66fa-42f4-ff0b-f3c3f1e0c3ea"
      },
      "outputs": [],
      "source": [
        "!python main.py"
      ]
    },
    {
      "cell_type": "code",
      "execution_count": null,
      "metadata": {
        "colab": {
          "base_uri": "https://localhost:8080/"
        },
        "id": "rULJsYsLGi9j",
        "outputId": "84b0182b-cc18-41c3-bdef-4d25cc61c004"
      },
      "outputs": [],
      "source": [
        "!python infer.py"
      ]
    },
    {
      "cell_type": "code",
      "execution_count": null,
      "metadata": {
        "id": "edpjGjFt-2Vq"
      },
      "outputs": [],
      "source": [
        " !zip -r log3.zip /content/nlp-qa/model-bin/test/checkpoint-14544\n"
      ]
    }
  ],
  "metadata": {
    "accelerator": "GPU",
    "colab": {
      "provenance": []
    },
    "kernelspec": {
      "display_name": "Python 3",
      "name": "python3"
    },
    "language_info": {
      "name": "python"
    }
  },
  "nbformat": 4,
  "nbformat_minor": 0
}
